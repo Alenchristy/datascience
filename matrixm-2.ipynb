{
 "cells": [
  {
   "cell_type": "code",
   "execution_count": 46,
   "metadata": {},
   "outputs": [
    {
     "name": "stdout",
     "output_type": "stream",
     "text": [
      "matrix a:\n",
      " [[1 2 3]\n",
      " [4 5 6]\n",
      " [7 8 9]]\n",
      "matrix b:\n",
      " [[2 5 6]\n",
      " [8 9 1]\n",
      " [4 7 3]]\n",
      "matrix multiplication:\n",
      " [[ 30  44  17]\n",
      " [ 72 107  47]\n",
      " [114 170  77]]\n",
      "transpose:\n",
      " [[ 30  72 114]\n",
      " [ 44 107 170]\n",
      " [ 17  47  77]]\n"
     ]
    }
   ],
   "source": [
    "#matrix multiplication\n",
    "import numpy as num\n",
    "a=num.array([[1,2,3],[4,5,6],[7,8,9]])\n",
    "b=num.array([[2,5,6],[8,9,1],[4,7,3]])\n",
    "print(\"matrix a:\\n\",a)\n",
    "print(\"matrix b:\\n\",b)\n",
    "c=num.dot(a,b)\n",
    "print(\"matrix multiplication:\\n\",c)\n",
    "d=num.transpose(c)\n",
    "print(\"transpose:\\n\",d)"
   ]
  },
  {
   "cell_type": "code",
   "execution_count": 49,
   "metadata": {},
   "outputs": [
    {
     "name": "stdout",
     "output_type": "stream",
     "text": [
      "[[1 2 3]\n",
      " [4 5 6]\n",
      " [7 8 9]]\n",
      "[1 2 3 4 5 6 7 8 9]\n",
      "matrix slicing: [[2 3]\n",
      " [5 6]\n",
      " [8 9]]\n"
     ]
    }
   ],
   "source": [
    "a=num.array([1,2,3,4,5,6,7,8,9])\n",
    "b=a.reshape(3,3)\n",
    "print(b)\n",
    "k=b.ravel()\n",
    "print(k)\n",
    "print(\"matrix slicing:\",b[0:,1:])"
   ]
  },
  {
   "cell_type": "code",
   "execution_count": 11,
   "metadata": {},
   "outputs": [
    {
     "name": "stdout",
     "output_type": "stream",
     "text": [
      "[[0 1 2]\n",
      " [3 4 5]\n",
      " [6 7 8]]\n"
     ]
    }
   ],
   "source": [
    "a=num.arange(9)\n",
    "b=a.reshape(3,3)\n",
    "print(b)"
   ]
  },
  {
   "cell_type": "code",
   "execution_count": 23,
   "metadata": {},
   "outputs": [
    {
     "name": "stdout",
     "output_type": "stream",
     "text": [
      "[[0 0 0]\n",
      " [0 0 0]\n",
      " [0 0 0]]\n"
     ]
    }
   ],
   "source": [
    "a=num.zeros([3,3],dtype='i')\n",
    "print(a)"
   ]
  }
 ],
 "metadata": {
  "kernelspec": {
   "display_name": "Python 3",
   "language": "python",
   "name": "python3"
  },
  "language_info": {
   "codemirror_mode": {
    "name": "ipython",
    "version": 3
   },
   "file_extension": ".py",
   "mimetype": "text/x-python",
   "name": "python",
   "nbconvert_exporter": "python",
   "pygments_lexer": "ipython3",
   "version": "3.6.3"
  }
 },
 "nbformat": 4,
 "nbformat_minor": 2
}
